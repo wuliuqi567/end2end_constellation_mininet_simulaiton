{
 "cells": [
  {
   "cell_type": "code",
   "execution_count": null,
   "metadata": {
    "collapsed": true,
    "pycharm": {
     "name": "#%%\n"
    }
   },
   "outputs": [],
   "source": []
  },
  {
   "cell_type": "code",
   "execution_count": null,
   "outputs": [],
   "source": [
    "import time\n",
    "import urllib3\n",
    "import json\n",
    "\n",
    "def get_ground_port(num:int):\n",
    "    url = CONTROLLER_IP + '/stats/port/{}'.format(num)\n",
    "    http = urllib3.PoolManager()\n",
    "    try:\n",
    "        res = http.request('GET', url)\n",
    "        if res.status == 200:\n",
    "            res = res.data.decode('unicode_escape')\n",
    "            res = json.loads(res)\n",
    "        else:\n",
    "            res = None\n",
    "    except urllib3.exceptions.ResponseError as e:\n",
    "            print(\"get error\", e)\n",
    "\n",
    "    return res\n",
    "\n",
    "\n",
    "def add_gs2host_link(ground_dpid_list:list, add_flowentry_url, post_data_ip:json, post_data_arp:json) -> None:\n",
    "\n",
    "    http = urllib3.PoolManager()\n",
    "    ####  add ground to host link\n",
    "\n",
    "    for gs_node_num in ground_dpid_list:\n",
    "\n",
    "        res = get_ground_port(gs_node_num)  # num -> ground number\n",
    "        gs_port_list = res['{}'.format(gs_node_num)]\n",
    "        gs_port_list = [port_info['port_no'] for port_info in gs_port_list]\n",
    "        gs_port_list = sorted(gs_port_list[1:])\n",
    "        print(gs_port_list[-1])\n",
    "        # print(sorted(port_list))\n",
    "\n",
    "        host_eth_num = gs_port_list[-1]  #最大的端口号，因为host是最后建立的连接\n",
    "\n",
    "ground_dpid_list = [226,227,228,229,230,231,232,233,234]\n",
    "\n",
    "add_gs2host_link(ground_dpid_list)"
   ],
   "metadata": {
    "collapsed": false,
    "pycharm": {
     "name": "#%%\n"
    }
   }
  }
 ],
 "metadata": {
  "kernelspec": {
   "display_name": "Python 3",
   "language": "python",
   "name": "python3"
  },
  "language_info": {
   "codemirror_mode": {
    "name": "ipython",
    "version": 2
   },
   "file_extension": ".py",
   "mimetype": "text/x-python",
   "name": "python",
   "nbconvert_exporter": "python",
   "pygments_lexer": "ipython2",
   "version": "2.7.6"
  }
 },
 "nbformat": 4,
 "nbformat_minor": 0
}